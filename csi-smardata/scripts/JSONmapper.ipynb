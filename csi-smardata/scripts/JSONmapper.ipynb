{
 "cells": [
  {
   "cell_type": "markdown",
   "metadata": {},
   "source": [
    "# It loads the json input that defines the polygons and gives the statistical zones based on the given coordinates"
   ]
  },
  {
   "cell_type": "code",
   "execution_count": 1,
   "metadata": {
    "collapsed": true
   },
   "outputs": [],
   "source": [
    "import folium\n",
    "import pandas as pd"
   ]
  },
  {
   "cell_type": "code",
   "execution_count": 2,
   "metadata": {
    "collapsed": false
   },
   "outputs": [],
   "source": [
    "from shapely.geometry import shape, Point"
   ]
  },
  {
   "cell_type": "code",
   "execution_count": 3,
   "metadata": {
    "collapsed": true
   },
   "outputs": [],
   "source": [
    "from shapely.wkt import loads as load_wkt"
   ]
  },
  {
   "cell_type": "code",
   "execution_count": 4,
   "metadata": {
    "collapsed": true
   },
   "outputs": [],
   "source": [
    "# load GeoJSON file containing sectors\n",
    "import json\n",
    "from pprint import pprint"
   ]
  },
  {
   "cell_type": "markdown",
   "metadata": {},
   "source": [
    "# mapping of the statistical zones"
   ]
  },
  {
   "cell_type": "code",
   "execution_count": 5,
   "metadata": {
    "collapsed": false
   },
   "outputs": [],
   "source": [
    "density = pd.read_csv('../resident population/resident_2014.csv', sep=';')"
   ]
  },
  {
   "cell_type": "code",
   "execution_count": 6,
   "metadata": {
    "collapsed": false
   },
   "outputs": [
    {
     "data": {
      "text/html": [
       "<div style=\"max-height:1000px;max-width:1500px;overflow:auto;\">\n",
       "<table border=\"1\" class=\"dataframe\">\n",
       "  <thead>\n",
       "    <tr style=\"text-align: right;\">\n",
       "      <th></th>\n",
       "      <th>Statistical_zone</th>\n",
       "      <th>Name</th>\n",
       "      <th>Total</th>\n",
       "      <th>Pop_density</th>\n",
       "    </tr>\n",
       "  </thead>\n",
       "  <tbody>\n",
       "    <tr>\n",
       "      <th>0</th>\n",
       "      <td> 01</td>\n",
       "      <td>                         MUNICIPIO</td>\n",
       "      <td> 9777</td>\n",
       "      <td> 18572.575605</td>\n",
       "    </tr>\n",
       "    <tr>\n",
       "      <th>1</th>\n",
       "      <td> 02</td>\n",
       "      <td>                     PALAZZO REALE</td>\n",
       "      <td>  125</td>\n",
       "      <td>   414.906784</td>\n",
       "    </tr>\n",
       "    <tr>\n",
       "      <th>2</th>\n",
       "      <td> 03</td>\n",
       "      <td>                 PALAZZO CARIGNANO</td>\n",
       "      <td> 4184</td>\n",
       "      <td>  9288.391592</td>\n",
       "    </tr>\n",
       "    <tr>\n",
       "      <th>3</th>\n",
       "      <td> 04</td>\n",
       "      <td> P.ZZA S. CARLO-P.ZZA CARLO FELICE</td>\n",
       "      <td> 4001</td>\n",
       "      <td>  8514.346644</td>\n",
       "    </tr>\n",
       "    <tr>\n",
       "      <th>4</th>\n",
       "      <td> 05</td>\n",
       "      <td>                    PIAZZA STATUTO</td>\n",
       "      <td> 8009</td>\n",
       "      <td> 14143.920949</td>\n",
       "    </tr>\n",
       "  </tbody>\n",
       "</table>\n",
       "<p>5 rows × 4 columns</p>\n",
       "</div>"
      ],
      "text/plain": [
       "  Statistical_zone                               Name  Total   Pop_density\n",
       "0               01                          MUNICIPIO   9777  18572.575605\n",
       "1               02                      PALAZZO REALE    125    414.906784\n",
       "2               03                  PALAZZO CARIGNANO   4184   9288.391592\n",
       "3               04  P.ZZA S. CARLO-P.ZZA CARLO FELICE   4001   8514.346644\n",
       "4               05                     PIAZZA STATUTO   8009  14143.920949\n",
       "\n",
       "[5 rows x 4 columns]"
      ]
     },
     "execution_count": 6,
     "metadata": {},
     "output_type": "execute_result"
    }
   ],
   "source": [
    "density.head()"
   ]
  },
  {
   "cell_type": "code",
   "execution_count": 7,
   "metadata": {
    "collapsed": true
   },
   "outputs": [],
   "source": [
    "width = 800\n",
    "height = 600"
   ]
  },
  {
   "cell_type": "code",
   "execution_count": 15,
   "metadata": {
    "collapsed": false
   },
   "outputs": [],
   "source": [
    "map_1 = folium.Map(width=width, height=height, location=[45.06, 7.65], zoom_start=12)\n",
    "\n",
    "city_geo = r'../resident population/populationdata2014_new_formapping.geojson'\n",
    "\n",
    "map_1.choropleth(geo_path=city_geo, \n",
    "                 data=density,\n",
    "                 columns=['Statistical_zone', 'Pop_density'],\n",
    "                 threshold_scale=[0, 6600, 13200, 19800, 26400, 33000],\n",
    "                 key_on='feature.properties.ZONA_STATI',\n",
    "                 fill_color='YlGnBu',\n",
    "                 fill_opacity=0.7, \n",
    "                 #line_color='orange',\n",
    "                 #line_weight=2,\n",
    "                 legend_name = 'desity of population')\n",
    "\n",
    "map_1.save('population_density.html')"
   ]
  },
  {
   "cell_type": "code",
   "execution_count": null,
   "metadata": {
    "collapsed": true
   },
   "outputs": [],
   "source": []
  }
 ],
 "metadata": {
  "kernelspec": {
   "display_name": "Python 2",
   "language": "python",
   "name": "python2"
  },
  "language_info": {
   "codemirror_mode": {
    "name": "ipython",
    "version": 2
   },
   "file_extension": ".py",
   "mimetype": "text/x-python",
   "name": "python",
   "nbconvert_exporter": "python",
   "pygments_lexer": "ipython2",
   "version": "2.7.6"
  }
 },
 "nbformat": 4,
 "nbformat_minor": 0
}
