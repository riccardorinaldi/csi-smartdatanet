{
 "cells": [
  {
   "cell_type": "markdown",
   "metadata": {},
   "source": [
    "# It loads the json input that defines the polygons and gives the statistical zone based on the given coordinates."
   ]
  },
  {
   "cell_type": "code",
   "execution_count": 3,
   "metadata": {
    "collapsed": true
   },
   "outputs": [],
   "source": [
    "import pandas as pd"
   ]
  },
  {
   "cell_type": "code",
   "execution_count": 4,
   "metadata": {
    "collapsed": false
   },
   "outputs": [],
   "source": [
    "from shapely.geometry import shape, Point"
   ]
  },
  {
   "cell_type": "code",
   "execution_count": 5,
   "metadata": {
    "collapsed": true
   },
   "outputs": [],
   "source": [
    "# load GeoJSON file containing sectors\n",
    "import json\n",
    "\n",
    "f = open('statisticalzones.geojson', 'r')\n",
    "js = json.load(f)"
   ]
  },
  {
   "cell_type": "code",
   "execution_count": 14,
   "metadata": {
    "collapsed": false
   },
   "outputs": [],
   "source": [
    "bike = pd.read_csv(\"testStations.csv\", sep=',')"
   ]
  },
  {
   "cell_type": "code",
   "execution_count": 15,
   "metadata": {
    "collapsed": true
   },
   "outputs": [],
   "source": [
    "bike = bike.sort(('lat', 'long'))"
   ]
  },
  {
   "cell_type": "code",
   "execution_count": 16,
   "metadata": {
    "collapsed": false,
    "scrolled": true
   },
   "outputs": [
    {
     "data": {
      "text/html": [
       "<div style=\"max-height:1000px;max-width:1500px;overflow:auto;\">\n",
       "<table border=\"1\" class=\"dataframe\">\n",
       "  <thead>\n",
       "    <tr style=\"text-align: right;\">\n",
       "      <th></th>\n",
       "      <th>id</th>\n",
       "      <th>name</th>\n",
       "      <th>lat</th>\n",
       "      <th>long</th>\n",
       "      <th>total_station_size</th>\n",
       "      <th>zone</th>\n",
       "    </tr>\n",
       "  </thead>\n",
       "  <tbody>\n",
       "    <tr>\n",
       "      <th>5</th>\n",
       "      <td>-6</td>\n",
       "      <td>                                   CORSO ORBASSANO</td>\n",
       "      <td> 45.03454</td>\n",
       "      <td> 7.62073</td>\n",
       "      <td> 15</td>\n",
       "      <td> 1</td>\n",
       "    </tr>\n",
       "    <tr>\n",
       "      <th>4</th>\n",
       "      <td>-5</td>\n",
       "      <td>                                         VIA NIZZA</td>\n",
       "      <td> 45.03454</td>\n",
       "      <td> 7.66807</td>\n",
       "      <td> 15</td>\n",
       "      <td> 1</td>\n",
       "    </tr>\n",
       "    <tr>\n",
       "      <th>3</th>\n",
       "      <td>-4</td>\n",
       "      <td>                                    VIA MONFERRATO</td>\n",
       "      <td> 45.06224</td>\n",
       "      <td> 7.69768</td>\n",
       "      <td> 15</td>\n",
       "      <td> 1</td>\n",
       "    </tr>\n",
       "    <tr>\n",
       "      <th>2</th>\n",
       "      <td>-3</td>\n",
       "      <td>                   CORSO SAN MAURIZIO E VANCHIGLIA</td>\n",
       "      <td> 45.07007</td>\n",
       "      <td> 7.69784</td>\n",
       "      <td> 15</td>\n",
       "      <td> 1</td>\n",
       "    </tr>\n",
       "    <tr>\n",
       "      <th>1</th>\n",
       "      <td>-2</td>\n",
       "      <td> VIALE DEI PARTIGIANI, VIA DENINA, LUNGODORA SIENA</td>\n",
       "      <td> 45.07494</td>\n",
       "      <td> 7.68756</td>\n",
       "      <td> 15</td>\n",
       "      <td> 1</td>\n",
       "    </tr>\n",
       "  </tbody>\n",
       "</table>\n",
       "<p>5 rows × 6 columns</p>\n",
       "</div>"
      ],
      "text/plain": [
       "   id                                               name       lat     long  \\\n",
       "5  -6                                    CORSO ORBASSANO  45.03454  7.62073   \n",
       "4  -5                                          VIA NIZZA  45.03454  7.66807   \n",
       "3  -4                                     VIA MONFERRATO  45.06224  7.69768   \n",
       "2  -3                    CORSO SAN MAURIZIO E VANCHIGLIA  45.07007  7.69784   \n",
       "1  -2  VIALE DEI PARTIGIANI, VIA DENINA, LUNGODORA SIENA  45.07494  7.68756   \n",
       "\n",
       "   total_station_size  zone  \n",
       "5                  15     1  \n",
       "4                  15     1  \n",
       "3                  15     1  \n",
       "2                  15     1  \n",
       "1                  15     1  \n",
       "\n",
       "[5 rows x 6 columns]"
      ]
     },
     "execution_count": 16,
     "metadata": {},
     "output_type": "execute_result"
    }
   ],
   "source": [
    "bike.head()"
   ]
  },
  {
   "cell_type": "code",
   "execution_count": 17,
   "metadata": {
    "collapsed": false
   },
   "outputs": [
    {
     "name": "stdout",
     "output_type": "stream",
     "text": [
      "['CORSO ORBASSANO', '-6', 'GERBIDO\\n']\n",
      "['VIA NIZZA', '-5', 'MOLINETTE-MILLEFONTI\\n']\n",
      "['VIA MONFERRATO', '-4', 'PIAZZA CRIMEA\\n']\n",
      "['CORSO SAN MAURIZIO E VANCHIGLIA', '-3', 'VANCHIGLIA\\n']\n",
      "['VIALE DEI PARTIGIANI', ' VIA DENINA', ' LUNGODORA SIENA', '-2', 'PALAZZO REALE\\n']\n",
      "['PARCO SPINA', ' PARCO PELLERINA', ' QUADRANTE NORD OVEST', '-1', 'LA TESORIERA\\n']\n"
     ]
    }
   ],
   "source": [
    "out = open('../toBike_stations_only.csv', 'w')\n",
    "\n",
    "out.write('name,id,stat_zone\\n')\n",
    "\n",
    "for i,j in bike.iterrows():\n",
    "    coord = [j['long'], j['lat']]\n",
    "    point = Point(coord)\n",
    "    for feature in js['features']:\n",
    "        polygon = shape(feature['geometry'])\n",
    "        if polygon.contains(point):    \n",
    "            string = str(j['name'])+','+str(j['id'])+','+str(feature['properties']['DENOMINAZI'])+'\\n'\n",
    "            out.write(string)\n",
    "            print string.split(',')\n",
    "            break"
   ]
  }
 ],
 "metadata": {
  "kernelspec": {
   "display_name": "Python 2",
   "language": "python",
   "name": "python2"
  },
  "language_info": {
   "codemirror_mode": {
    "name": "ipython",
    "version": 2
   },
   "file_extension": ".py",
   "mimetype": "text/x-python",
   "name": "python",
   "nbconvert_exporter": "python",
   "pygments_lexer": "ipython2",
   "version": "2.7.6"
  }
 },
 "nbformat": 4,
 "nbformat_minor": 0
}
