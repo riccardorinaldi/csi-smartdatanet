{
 "cells": [
  {
   "cell_type": "code",
   "execution_count": 3,
   "metadata": {
    "collapsed": true
   },
   "outputs": [],
   "source": [
    "%matplotlib inline\n",
    "import matplotlib.pyplot as plt\n",
    "import numpy as np\n",
    "import pandas as pd\n",
    "import csv\n",
    "import folium"
   ]
  },
  {
   "cell_type": "code",
   "execution_count": 4,
   "metadata": {
    "collapsed": false
   },
   "outputs": [
    {
     "data": {
      "text/html": [
       "<div>\n",
       "<table border=\"1\" class=\"dataframe\">\n",
       "  <thead>\n",
       "    <tr style=\"text-align: right;\">\n",
       "      <th></th>\n",
       "      <th>id</th>\n",
       "      <th>period</th>\n",
       "      <th>season</th>\n",
       "      <th>sum_space_free</th>\n",
       "      <th>sum_broken</th>\n",
       "      <th>sum_total</th>\n",
       "      <th>mean_predict_day_spaces_free</th>\n",
       "      <th>perc_slot_free</th>\n",
       "      <th>perc_broken_bikes</th>\n",
       "      <th>name</th>\n",
       "      <th>...</th>\n",
       "      <th>tot_days_open</th>\n",
       "      <th>max_total_places</th>\n",
       "      <th>min_total_places</th>\n",
       "      <th>mean_total_places</th>\n",
       "      <th>tot_total_places</th>\n",
       "      <th>stat_zone</th>\n",
       "      <th>TOTALE</th>\n",
       "      <th>Totale.stranieri</th>\n",
       "      <th>perc_stranieri</th>\n",
       "      <th>use</th>\n",
       "    </tr>\n",
       "  </thead>\n",
       "  <tbody>\n",
       "    <tr>\n",
       "      <th>1</th>\n",
       "      <td>1</td>\n",
       "      <td>morning</td>\n",
       "      <td>autumn</td>\n",
       "      <td>537</td>\n",
       "      <td>209</td>\n",
       "      <td>996</td>\n",
       "      <td>0.607081</td>\n",
       "      <td>0.539157</td>\n",
       "      <td>0.209839</td>\n",
       "      <td>Adriano</td>\n",
       "      <td>...</td>\n",
       "      <td>0</td>\n",
       "      <td>0</td>\n",
       "      <td>0</td>\n",
       "      <td>0</td>\n",
       "      <td>0</td>\n",
       "      <td>PORTA SUSA - NUOVO TRIBUNALE</td>\n",
       "      <td>9849</td>\n",
       "      <td>850</td>\n",
       "      <td>0.086303</td>\n",
       "      <td>0</td>\n",
       "    </tr>\n",
       "    <tr>\n",
       "      <th>2</th>\n",
       "      <td>1</td>\n",
       "      <td>morning</td>\n",
       "      <td>spring</td>\n",
       "      <td>493</td>\n",
       "      <td>307</td>\n",
       "      <td>1092</td>\n",
       "      <td>0.523770</td>\n",
       "      <td>0.451465</td>\n",
       "      <td>0.281136</td>\n",
       "      <td>Adriano</td>\n",
       "      <td>...</td>\n",
       "      <td>0</td>\n",
       "      <td>0</td>\n",
       "      <td>0</td>\n",
       "      <td>0</td>\n",
       "      <td>0</td>\n",
       "      <td>PORTA SUSA - NUOVO TRIBUNALE</td>\n",
       "      <td>9849</td>\n",
       "      <td>850</td>\n",
       "      <td>0.086303</td>\n",
       "      <td>0</td>\n",
       "    </tr>\n",
       "    <tr>\n",
       "      <th>3</th>\n",
       "      <td>1</td>\n",
       "      <td>morning</td>\n",
       "      <td>summer</td>\n",
       "      <td>369</td>\n",
       "      <td>308</td>\n",
       "      <td>888</td>\n",
       "      <td>0.621245</td>\n",
       "      <td>0.415541</td>\n",
       "      <td>0.346847</td>\n",
       "      <td>Adriano</td>\n",
       "      <td>...</td>\n",
       "      <td>0</td>\n",
       "      <td>0</td>\n",
       "      <td>0</td>\n",
       "      <td>0</td>\n",
       "      <td>0</td>\n",
       "      <td>PORTA SUSA - NUOVO TRIBUNALE</td>\n",
       "      <td>9849</td>\n",
       "      <td>850</td>\n",
       "      <td>0.086303</td>\n",
       "      <td>0</td>\n",
       "    </tr>\n",
       "    <tr>\n",
       "      <th>4</th>\n",
       "      <td>1</td>\n",
       "      <td>afternoon</td>\n",
       "      <td>winter</td>\n",
       "      <td>529</td>\n",
       "      <td>253</td>\n",
       "      <td>1068</td>\n",
       "      <td>0.482661</td>\n",
       "      <td>0.495318</td>\n",
       "      <td>0.236891</td>\n",
       "      <td>Adriano</td>\n",
       "      <td>...</td>\n",
       "      <td>0</td>\n",
       "      <td>0</td>\n",
       "      <td>0</td>\n",
       "      <td>0</td>\n",
       "      <td>0</td>\n",
       "      <td>PORTA SUSA - NUOVO TRIBUNALE</td>\n",
       "      <td>9849</td>\n",
       "      <td>850</td>\n",
       "      <td>0.086303</td>\n",
       "      <td>1</td>\n",
       "    </tr>\n",
       "    <tr>\n",
       "      <th>5</th>\n",
       "      <td>2</td>\n",
       "      <td>early</td>\n",
       "      <td>autumn</td>\n",
       "      <td>1942</td>\n",
       "      <td>43</td>\n",
       "      <td>2260</td>\n",
       "      <td>0.601382</td>\n",
       "      <td>0.859292</td>\n",
       "      <td>0.019027</td>\n",
       "      <td>Arbarello</td>\n",
       "      <td>...</td>\n",
       "      <td>6</td>\n",
       "      <td>115</td>\n",
       "      <td>115</td>\n",
       "      <td>115</td>\n",
       "      <td>115</td>\n",
       "      <td>MUNICIPIO</td>\n",
       "      <td>9777</td>\n",
       "      <td>1716</td>\n",
       "      <td>0.175514</td>\n",
       "      <td>1</td>\n",
       "    </tr>\n",
       "  </tbody>\n",
       "</table>\n",
       "<p>5 rows × 46 columns</p>\n",
       "</div>"
      ],
      "text/plain": [
       "   id     period  season  sum_space_free  sum_broken  sum_total  \\\n",
       "1   1    morning  autumn             537         209        996   \n",
       "2   1    morning  spring             493         307       1092   \n",
       "3   1    morning  summer             369         308        888   \n",
       "4   1  afternoon  winter             529         253       1068   \n",
       "5   2      early  autumn            1942          43       2260   \n",
       "\n",
       "   mean_predict_day_spaces_free  perc_slot_free  perc_broken_bikes       name  \\\n",
       "1                      0.607081        0.539157           0.209839    Adriano   \n",
       "2                      0.523770        0.451465           0.281136    Adriano   \n",
       "3                      0.621245        0.415541           0.346847    Adriano   \n",
       "4                      0.482661        0.495318           0.236891    Adriano   \n",
       "5                      0.601382        0.859292           0.019027  Arbarello   \n",
       "\n",
       "  ...   tot_days_open  max_total_places  min_total_places  mean_total_places  \\\n",
       "1 ...               0                 0                 0                  0   \n",
       "2 ...               0                 0                 0                  0   \n",
       "3 ...               0                 0                 0                  0   \n",
       "4 ...               0                 0                 0                  0   \n",
       "5 ...               6               115               115                115   \n",
       "\n",
       "   tot_total_places                     stat_zone  TOTALE  Totale.stranieri  \\\n",
       "1                 0  PORTA SUSA - NUOVO TRIBUNALE    9849               850   \n",
       "2                 0  PORTA SUSA - NUOVO TRIBUNALE    9849               850   \n",
       "3                 0  PORTA SUSA - NUOVO TRIBUNALE    9849               850   \n",
       "4                 0  PORTA SUSA - NUOVO TRIBUNALE    9849               850   \n",
       "5               115                     MUNICIPIO    9777              1716   \n",
       "\n",
       "   perc_stranieri  use  \n",
       "1        0.086303    0  \n",
       "2        0.086303    0  \n",
       "3        0.086303    0  \n",
       "4        0.086303    1  \n",
       "5        0.175514    1  \n",
       "\n",
       "[5 rows x 46 columns]"
      ]
     },
     "execution_count": 4,
     "metadata": {},
     "output_type": "execute_result"
    }
   ],
   "source": [
    "rawdata=pd.read_csv(\"./source/dati2model.csv\", sep=' ')\n",
    "rawdata.head()"
   ]
  },
  {
   "cell_type": "markdown",
   "metadata": {},
   "source": [
    "#### To do fast checks take Random samples of data"
   ]
  },
  {
   "cell_type": "code",
   "execution_count": 5,
   "metadata": {
    "collapsed": false
   },
   "outputs": [],
   "source": [
    "# uncomment next line for 10% of data\n",
    "#sampdata = rawdata.sample(frac=.1)\n",
    "\n",
    "# uncomment next line for ALL THE DATA\n",
    "sampdata = rawdata"
   ]
  },
  {
   "cell_type": "code",
   "execution_count": 54,
   "metadata": {
    "collapsed": false
   },
   "outputs": [
    {
     "name": "stdout",
     "output_type": "stream",
     "text": [
      "647\n",
      "\r",
      "0 \r",
      "1 \r",
      "2 \r",
      "3 \r",
      "4 \r",
      "5"
     ]
    },
    {
     "name": "stderr",
     "output_type": "stream",
     "text": [
      "/home/lorenzo/anaconda2/lib/python2.7/site-packages/ipykernel/__main__.py:12: FutureWarning: circle_marker is deprecated. Use add_children(CircleMarker) instead\n"
     ]
    },
    {
     "name": "stdout",
     "output_type": "stream",
     "text": [
      "646\n"
     ]
    }
   ],
   "source": [
    "# Get map\n",
    "simplemap = folium.Map(location=[45.05, 7.66667], zoom_start=12)\n",
    "\n",
    "#GET COORDINATES\n",
    "coord = np.array([sampdata['long'].values,sampdata['lat'].values])\n",
    "\n",
    "count =0\n",
    "print len(coord.T)\n",
    "for row in coord.T:\n",
    "    print '\\r{0}'.format(count),\n",
    "    count += 1\n",
    "    simplemap.circle_marker(location=[row[1],row[0]],radius=40, fill_color='#43d9de', line_color='#43d9de', fill_opacity=0.7)\n",
    "\n",
    "#uncomment next line to show here the map\n",
    "#simplemap\n",
    "#save map in html file\n",
    "simplemap.save(\"./results/tobikeSimplemap.html\")"
   ]
  },
  {
   "cell_type": "markdown",
   "metadata": {},
   "source": [
    "**BY SEASON AND DAY PERIOD**"
   ]
  },
  {
   "cell_type": "code",
   "execution_count": 7,
   "metadata": {
    "collapsed": false
   },
   "outputs": [
    {
     "name": "stdout",
     "output_type": "stream",
     "text": [
      "\n"
     ]
    }
   ],
   "source": [
    "autumn=sampdata[sampdata['season'].str.contains(\"autumn\")]\n",
    "spring=sampdata[sampdata['season'].str.contains(\"spring\")]\n",
    "winter=sampdata[sampdata['season'].str.contains(\"winter\")]\n",
    "summer=sampdata[sampdata['season'].str.contains(\"summer\")]"
   ]
  },
  {
   "cell_type": "code",
   "execution_count": 36,
   "metadata": {
    "collapsed": false
   },
   "outputs": [
    {
     "data": {
      "text/plain": [
       "'yellow'"
      ]
     },
     "execution_count": 36,
     "metadata": {},
     "output_type": "execute_result"
    }
   ],
   "source": [
    "colors[0]"
   ]
  },
  {
   "cell_type": "code",
   "execution_count": 38,
   "metadata": {
    "collapsed": false
   },
   "outputs": [
    {
     "data": {
      "text/plain": [
       "'black'"
      ]
     },
     "execution_count": 38,
     "metadata": {},
     "output_type": "execute_result"
    }
   ],
   "source": [
    "colors[5]"
   ]
  },
  {
   "cell_type": "code",
   "execution_count": 48,
   "metadata": {
    "collapsed": false
   },
   "outputs": [
    {
     "name": "stdout",
     "output_type": "stream",
     "text": [
      "162\n",
      "\r",
      "0 \r",
      "1 \r",
      "2 \r",
      "3 \r",
      "4 \r",
      "5"
     ]
    },
    {
     "name": "stderr",
     "output_type": "stream",
     "text": [
      "/home/lorenzo/anaconda2/lib/python2.7/site-packages/ipykernel/__main__.py:15: FutureWarning: circle_marker is deprecated. Use add_children(CircleMarker) instead\n",
      "/home/lorenzo/anaconda2/lib/python2.7/site-packages/ipykernel/__main__.py:13: FutureWarning: circle_marker is deprecated. Use add_children(CircleMarker) instead\n",
      "/home/lorenzo/anaconda2/lib/python2.7/site-packages/ipykernel/__main__.py:23: FutureWarning: circle_marker is deprecated. Use add_children(CircleMarker) instead\n"
     ]
    },
    {
     "name": "stdout",
     "output_type": "stream",
     "text": [
      "18"
     ]
    },
    {
     "name": "stderr",
     "output_type": "stream",
     "text": [
      "/home/lorenzo/anaconda2/lib/python2.7/site-packages/ipykernel/__main__.py:17: FutureWarning: circle_marker is deprecated. Use add_children(CircleMarker) instead\n"
     ]
    },
    {
     "name": "stdout",
     "output_type": "stream",
     "text": [
      " \r",
      "19 \r",
      "20 \r",
      "21 \r",
      "22"
     ]
    },
    {
     "name": "stderr",
     "output_type": "stream",
     "text": [
      "/home/lorenzo/anaconda2/lib/python2.7/site-packages/ipykernel/__main__.py:21: FutureWarning: circle_marker is deprecated. Use add_children(CircleMarker) instead\n"
     ]
    },
    {
     "name": "stdout",
     "output_type": "stream",
     "text": [
      "39"
     ]
    },
    {
     "name": "stderr",
     "output_type": "stream",
     "text": [
      "/home/lorenzo/anaconda2/lib/python2.7/site-packages/ipykernel/__main__.py:19: FutureWarning: circle_marker is deprecated. Use add_children(CircleMarker) instead\n"
     ]
    },
    {
     "name": "stdout",
     "output_type": "stream",
     "text": [
      "161\n"
     ]
    }
   ],
   "source": [
    "# Get autumn map\n",
    "autumnmap = folium.Map(location=[45.05, 7.66667], zoom_start=13)\n",
    "# Draw markers on the map.\n",
    "count =0\n",
    "aut_coord_period = np.array([autumn['long'].values,autumn['lat'].values,autumn['period'].values])\n",
    "colors=np.array(['yellow','orange','magenta','cyan','blue','black'])\n",
    "print len(aut_coord_period.T)\n",
    "for row in aut_coord_period.T:\n",
    "    print '\\r{0}'.format(count),\n",
    "    count += 1\n",
    "    \n",
    "    if (row[2] == 'early'):\n",
    "        autumnmap.circle_marker(location=[row[1],row[0]],radius=40, fill_color=colors[0], line_color=colors[0], fill_opacity=0.7)\n",
    "    elif (row[2] == 'morning'):\n",
    "        autumnmap.circle_marker(location=[row[1],row[0]],radius=40, fill_color=colors[1], line_color=colors[1], fill_opacity=0.7)\n",
    "    elif (row[2] == 'afternoon'):\n",
    "        autumnmap.circle_marker(location=[row[1],row[0]],radius=40, fill_color=colors[2], line_color=colors[2], fill_opacity=0.7)\n",
    "    elif (row[2] == 'evening'):\n",
    "        autumnmap.circle_marker(location=[row[1],row[0]],radius=40, fill_color=colors[3], line_color=colors[3], fill_opacity=0.7)\n",
    "    elif (row[2] == 'night'):\n",
    "        autumnmap.circle_marker(location=[row[1],row[0]],radius=40, fill_color=colors[4], line_color=colors[4], fill_opacity=0.7)\n",
    "    elif (row[2] == 'late'):\n",
    "        autumnmap.circle_marker(location=[row[1],row[0]],radius=40, fill_color=colors[5], line_color=colors[5], fill_opacity=0.7)\n",
    "    else:\n",
    "        print 'error'\n",
    "        break\n",
    "#uncomment next line to show here the map\n",
    "#autumnmap\n",
    "#save map in html file\n",
    "autumnmap.save(\"./results/tobikeAutumn_period.html\")"
   ]
  },
  {
   "cell_type": "code",
   "execution_count": 50,
   "metadata": {
    "collapsed": false
   },
   "outputs": [
    {
     "name": "stdout",
     "output_type": "stream",
     "text": [
      "161\n",
      "\r",
      "0 \r",
      "1 \r",
      "2 \r",
      "3 \r",
      "4 \r",
      "5"
     ]
    },
    {
     "name": "stderr",
     "output_type": "stream",
     "text": [
      "/home/lorenzo/anaconda2/lib/python2.7/site-packages/ipykernel/__main__.py:17: FutureWarning: circle_marker is deprecated. Use add_children(CircleMarker) instead\n",
      "/home/lorenzo/anaconda2/lib/python2.7/site-packages/ipykernel/__main__.py:19: FutureWarning: circle_marker is deprecated. Use add_children(CircleMarker) instead\n",
      "/home/lorenzo/anaconda2/lib/python2.7/site-packages/ipykernel/__main__.py:23: FutureWarning: circle_marker is deprecated. Use add_children(CircleMarker) instead\n",
      "/home/lorenzo/anaconda2/lib/python2.7/site-packages/ipykernel/__main__.py:15: FutureWarning: circle_marker is deprecated. Use add_children(CircleMarker) instead\n"
     ]
    },
    {
     "name": "stdout",
     "output_type": "stream",
     "text": [
      "14"
     ]
    },
    {
     "name": "stderr",
     "output_type": "stream",
     "text": [
      "/home/lorenzo/anaconda2/lib/python2.7/site-packages/ipykernel/__main__.py:13: FutureWarning: circle_marker is deprecated. Use add_children(CircleMarker) instead\n",
      "/home/lorenzo/anaconda2/lib/python2.7/site-packages/ipykernel/__main__.py:21: FutureWarning: circle_marker is deprecated. Use add_children(CircleMarker) instead\n"
     ]
    },
    {
     "name": "stdout",
     "output_type": "stream",
     "text": [
      "160\n"
     ]
    }
   ],
   "source": [
    "# Get winter map\n",
    "wintermap = folium.Map(location=[45.05, 7.66667], zoom_start=13)\n",
    "# Draw markers on the map.\n",
    "count =0\n",
    "win_coord_period = np.array([winter['long'].values,winter['lat'].values,winter['period'].values])\n",
    "colors=np.array(['yellow','orange','magenta','cyan','blue','black'])\n",
    "print len(win_coord_period.T)\n",
    "for row in win_coord_period.T:\n",
    "    print '\\r{0}'.format(count),\n",
    "    count += 1\n",
    "    \n",
    "    if (row[2] == 'early'):\n",
    "        wintermap.circle_marker(location=[row[1],row[0]],radius=40, fill_color=colors[0], line_color=colors[0], fill_opacity=0.7)\n",
    "    elif (row[2] == 'morning'):\n",
    "        wintermap.circle_marker(location=[row[1],row[0]],radius=40, fill_color=colors[1], line_color=colors[1], fill_opacity=0.7)\n",
    "    elif (row[2] == 'afternoon'):\n",
    "        wintermap.circle_marker(location=[row[1],row[0]],radius=40, fill_color=colors[2], line_color=colors[2], fill_opacity=0.7)\n",
    "    elif (row[2] == 'evening'):\n",
    "        wintermap.circle_marker(location=[row[1],row[0]],radius=40, fill_color=colors[3], line_color=colors[3], fill_opacity=0.7)\n",
    "    elif (row[2] == 'night'):\n",
    "        wintermap.circle_marker(location=[row[1],row[0]],radius=40, fill_color=colors[4], line_color=colors[4], fill_opacity=0.7)\n",
    "    elif (row[2] == 'late'):\n",
    "        wintermap.circle_marker(location=[row[1],row[0]],radius=40, fill_color=colors[5], line_color=colors[5], fill_opacity=0.7)\n",
    "    else:\n",
    "        print 'error'\n",
    "        break\n",
    "#uncomment next line to show here the map\n",
    "#wintermap\n",
    "#save map in html file\n",
    "wintermap.save(\"./results/tobikeWinter_period.html\")"
   ]
  },
  {
   "cell_type": "code",
   "execution_count": 53,
   "metadata": {
    "collapsed": false
   },
   "outputs": [
    {
     "name": "stdout",
     "output_type": "stream",
     "text": [
      "161\n",
      "\r",
      "0 \r",
      "1 \r",
      "2 \r",
      "3 \r",
      "4 \r",
      "5 \r",
      "6"
     ]
    },
    {
     "name": "stderr",
     "output_type": "stream",
     "text": [
      "/home/lorenzo/anaconda2/lib/python2.7/site-packages/ipykernel/__main__.py:15: FutureWarning: circle_marker is deprecated. Use add_children(CircleMarker) instead\n",
      "/home/lorenzo/anaconda2/lib/python2.7/site-packages/ipykernel/__main__.py:23: FutureWarning: circle_marker is deprecated. Use add_children(CircleMarker) instead\n"
     ]
    },
    {
     "name": "stdout",
     "output_type": "stream",
     "text": [
      " \r",
      "7 \r",
      "8 \r",
      "9 \r",
      "10 \r",
      "11"
     ]
    },
    {
     "name": "stderr",
     "output_type": "stream",
     "text": [
      "/home/lorenzo/anaconda2/lib/python2.7/site-packages/ipykernel/__main__.py:13: FutureWarning: circle_marker is deprecated. Use add_children(CircleMarker) instead\n"
     ]
    },
    {
     "name": "stdout",
     "output_type": "stream",
     "text": [
      " \r",
      "12 \r",
      "13 \r",
      "14 \r",
      "15 \r",
      "16"
     ]
    },
    {
     "name": "stderr",
     "output_type": "stream",
     "text": [
      "/home/lorenzo/anaconda2/lib/python2.7/site-packages/ipykernel/__main__.py:21: FutureWarning: circle_marker is deprecated. Use add_children(CircleMarker) instead\n",
      "/home/lorenzo/anaconda2/lib/python2.7/site-packages/ipykernel/__main__.py:17: FutureWarning: circle_marker is deprecated. Use add_children(CircleMarker) instead\n"
     ]
    },
    {
     "name": "stdout",
     "output_type": "stream",
     "text": [
      " \r",
      "17 \r",
      "18 \r",
      "19 \r",
      "20 \r",
      "21 \r",
      "22 \r",
      "23 \r",
      "24"
     ]
    },
    {
     "name": "stderr",
     "output_type": "stream",
     "text": [
      "/home/lorenzo/anaconda2/lib/python2.7/site-packages/ipykernel/__main__.py:19: FutureWarning: circle_marker is deprecated. Use add_children(CircleMarker) instead\n"
     ]
    },
    {
     "name": "stdout",
     "output_type": "stream",
     "text": [
      "160\n"
     ]
    }
   ],
   "source": [
    "# Get spring map\n",
    "springmap = folium.Map(location=[45.05, 7.66667], zoom_start=13)\n",
    "# Draw markers on the map.\n",
    "count =0\n",
    "spr_coord_period = np.array([spring['long'].values,spring['lat'].values,spring['period'].values])\n",
    "colors=np.array(['yellow','orange','magenta','cyan','blue','black'])\n",
    "print len(spr_coord_period.T)\n",
    "for row in spr_coord_period.T:\n",
    "    print '\\r{0}'.format(count),\n",
    "    count += 1\n",
    "    \n",
    "    if (row[2] == 'early'):\n",
    "        springmap.circle_marker(location=[row[1],row[0]],radius=40, fill_color=colors[0], line_color=colors[0], fill_opacity=0.7)\n",
    "    elif (row[2] == 'morning'):\n",
    "        springmap.circle_marker(location=[row[1],row[0]],radius=40, fill_color=colors[1], line_color=colors[1], fill_opacity=0.7)\n",
    "    elif (row[2] == 'afternoon'):\n",
    "        springmap.circle_marker(location=[row[1],row[0]],radius=40, fill_color=colors[2], line_color=colors[2], fill_opacity=0.7)\n",
    "    elif (row[2] == 'evening'):\n",
    "        springmap.circle_marker(location=[row[1],row[0]],radius=40, fill_color=colors[3], line_color=colors[3], fill_opacity=0.7)\n",
    "    elif (row[2] == 'night'):\n",
    "        springmap.circle_marker(location=[row[1],row[0]],radius=40, fill_color=colors[4], line_color=colors[4], fill_opacity=0.7)\n",
    "    elif (row[2] == 'late'):\n",
    "        springmap.circle_marker(location=[row[1],row[0]],radius=40, fill_color=colors[5], line_color=colors[5], fill_opacity=0.7)\n",
    "    else:\n",
    "        print 'error'\n",
    "        break\n",
    "#uncomment next line to show here the map\n",
    "#springmap\n",
    "#save map in html file\n",
    "springmap.save(\"./results/tobikeSpring_period.html\")"
   ]
  },
  {
   "cell_type": "code",
   "execution_count": 52,
   "metadata": {
    "collapsed": false
   },
   "outputs": [
    {
     "name": "stdout",
     "output_type": "stream",
     "text": [
      "163\n",
      "\r",
      "0 \r",
      "1 \r",
      "2 \r",
      "3 \r",
      "4 \r",
      "5"
     ]
    },
    {
     "name": "stderr",
     "output_type": "stream",
     "text": [
      "/home/lorenzo/anaconda2/lib/python2.7/site-packages/ipykernel/__main__.py:15: FutureWarning: circle_marker is deprecated. Use add_children(CircleMarker) instead\n",
      "/home/lorenzo/anaconda2/lib/python2.7/site-packages/ipykernel/__main__.py:17: FutureWarning: circle_marker is deprecated. Use add_children(CircleMarker) instead\n",
      "/home/lorenzo/anaconda2/lib/python2.7/site-packages/ipykernel/__main__.py:23: FutureWarning: circle_marker is deprecated. Use add_children(CircleMarker) instead\n"
     ]
    },
    {
     "name": "stdout",
     "output_type": "stream",
     "text": [
      " \r",
      "6 \r",
      "7 \r",
      "8 \r",
      "9 \r",
      "10"
     ]
    },
    {
     "name": "stderr",
     "output_type": "stream",
     "text": [
      "/home/lorenzo/anaconda2/lib/python2.7/site-packages/ipykernel/__main__.py:21: FutureWarning: circle_marker is deprecated. Use add_children(CircleMarker) instead\n"
     ]
    },
    {
     "name": "stdout",
     "output_type": "stream",
     "text": [
      "23"
     ]
    },
    {
     "name": "stderr",
     "output_type": "stream",
     "text": [
      "/home/lorenzo/anaconda2/lib/python2.7/site-packages/ipykernel/__main__.py:13: FutureWarning: circle_marker is deprecated. Use add_children(CircleMarker) instead\n",
      "/home/lorenzo/anaconda2/lib/python2.7/site-packages/ipykernel/__main__.py:19: FutureWarning: circle_marker is deprecated. Use add_children(CircleMarker) instead\n"
     ]
    },
    {
     "name": "stdout",
     "output_type": "stream",
     "text": [
      "162\n"
     ]
    }
   ],
   "source": [
    "# Get summer map\n",
    "summermap = folium.Map(location=[45.05, 7.66667], zoom_start=13)\n",
    "# Draw markers on the map.\n",
    "count =0\n",
    "sum_coord_period = np.array([summer['long'].values,summer['lat'].values,summer['period'].values])\n",
    "colors=np.array(['yellow','orange','magenta','cyan','blue','black'])\n",
    "print len(sum_coord_period.T)\n",
    "for row in sum_coord_period.T:\n",
    "    print '\\r{0}'.format(count),\n",
    "    count += 1\n",
    "    \n",
    "    if (row[2] == 'early'):\n",
    "        summermap.circle_marker(location=[row[1],row[0]],radius=40, fill_color=colors[0], line_color=colors[0], fill_opacity=0.7)\n",
    "    elif (row[2] == 'morning'):\n",
    "        summermap.circle_marker(location=[row[1],row[0]],radius=40, fill_color=colors[1], line_color=colors[1], fill_opacity=0.7)\n",
    "    elif (row[2] == 'afternoon'):\n",
    "        summermap.circle_marker(location=[row[1],row[0]],radius=40, fill_color=colors[2], line_color=colors[2], fill_opacity=0.7)\n",
    "    elif (row[2] == 'evening'):\n",
    "        summermap.circle_marker(location=[row[1],row[0]],radius=40, fill_color=colors[3], line_color=colors[3], fill_opacity=0.7)\n",
    "    elif (row[2] == 'night'):\n",
    "        summermap.circle_marker(location=[row[1],row[0]],radius=40, fill_color=colors[4], line_color=colors[4], fill_opacity=0.7)\n",
    "    elif (row[2] == 'late'):\n",
    "        summermap.circle_marker(location=[row[1],row[0]],radius=40, fill_color=colors[5], line_color=colors[5], fill_opacity=0.7)\n",
    "    else:\n",
    "        print 'error'\n",
    "        break\n",
    "#uncomment next line to show here the map\n",
    "#summermap\n",
    "#save map in html file\n",
    "summermap.save(\"./results/tobikesummer_period.html\")"
   ]
  },
  {
   "cell_type": "code",
   "execution_count": null,
   "metadata": {
    "collapsed": true
   },
   "outputs": [],
   "source": []
  }
 ],
 "metadata": {
  "kernelspec": {
   "display_name": "Python 2",
   "language": "python",
   "name": "python2"
  },
  "language_info": {
   "codemirror_mode": {
    "name": "ipython",
    "version": 2
   },
   "file_extension": ".py",
   "mimetype": "text/x-python",
   "name": "python",
   "nbconvert_exporter": "python",
   "pygments_lexer": "ipython2",
   "version": "2.7.11"
  }
 },
 "nbformat": 4,
 "nbformat_minor": 0
}
